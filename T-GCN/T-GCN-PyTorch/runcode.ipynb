{
 "cells": [
  {
   "cell_type": "code",
   "execution_count": null,
   "metadata": {},
   "outputs": [],
   "source": [
    "!pip install -r requirements.txt"
   ]
  },
  {
   "cell_type": "markdown",
   "metadata": {},
   "source": [
    "# Run code with setup"
   ]
  },
  {
   "cell_type": "code",
   "execution_count": null,
   "metadata": {},
   "outputs": [],
   "source": [
    "\"GRU\", \"LSTM\", \"GCN\", \"TGCN\",\"TGCN_LSTM\",\"TGCN_UGRNN\""
   ]
  },
  {
   "cell_type": "code",
   "execution_count": null,
   "metadata": {},
   "outputs": [],
   "source": [
    "[\"mse_with_regularizer\",\"mse_with_regularizer_l1\"]"
   ]
  },
  {
   "cell_type": "code",
   "execution_count": null,
   "metadata": {},
   "outputs": [],
   "source": [
    "\"losloop\",\"PEMS08\",\"PEMS04\",\"\""
   ]
  },
  {
   "cell_type": "code",
   "execution_count": null,
   "metadata": {},
   "outputs": [],
   "source": [
    "from subprocess import Popen,PIPE\n",
    "model = [\"TGCN\"]\n",
    "max_epochs = \"1\"\n",
    "learning_rate = \"0.001\" \n",
    "weight_decay =\"0\"\n",
    "enable_progress_bar = \"False\"\n",
    "batch_size = \"64\"\n",
    "hidden_dim = \"64\"\n",
    "cell_dim = \"64\"\n",
    "dropout = \"0\"\n",
    "loss = [\"mse\"]\n",
    "data = [\"losloop\"]\n",
    "gpus = \"0\"\n",
    "for i in data:\n",
    "    for j in loss:\n",
    "        for k in model:\n",
    "            for l in layer_2:\n",
    "                print(\"Dataset:\",i,\" Loss:\",j,\" Model:\",k,\"Time:\",l)\n",
    "                cmd_str = [\"python\",\n",
    "                       \"main.py\",\n",
    "                       \"--enable_progress_bar\",enable_progress_bar,\n",
    "                       \"--model_name\",k,\n",
    "                       \"--max_epochs\",max_epochs,\n",
    "                       \"--learning_rate\",learning_rate,\n",
    "                       \"--weight_decay\",weight_decay,\n",
    "                       \"--batch_size\",batch_size,\n",
    "                       \"--hidden_dim\",hidden_dim,\n",
    "                       \"--cell_dim\",cell_dim,\n",
    "                       \"--dropout\",dropout,\n",
    "                       \"--loss\",j,\n",
    "                       \"--layer_2\",l,\n",
    "                       \"--data\",i,\n",
    "                       \"--gpus\",gpus,\n",
    "                      ]\n",
    "                p = Popen(cmd_str,stdout=PIPE)\n",
    "                for m in p.stdout:\n",
    "                    print(m)"
   ]
  },
  {
   "cell_type": "markdown",
   "metadata": {},
   "source": [
    "# Test one with time "
   ]
  },
  {
   "cell_type": "code",
   "execution_count": null,
   "metadata": {},
   "outputs": [],
   "source": [
    "import time"
   ]
  },
  {
   "cell_type": "code",
   "execution_count": null,
   "metadata": {},
   "outputs": [],
   "source": [
    "%%time\n",
    "\n",
    "!python main.py \\\n",
    "--model_name TGCN \\\n",
    "--data losloop \\\n",
    "--max_epochs 2 \\\n",
    "--learning_rate 0.001 \\\n",
    "--weight_decay 0 \\\n",
    "--batch_size 64 \\\n",
    "--hidden_dim 64 \\\n",
    "--self_attention 1 \\\n",
    "--loss \"mse\" \\\n",
    "--seq_len 12 \\\n",
    "--pre_len 12 \\\n",
    "--svd 0"
   ]
  },
  {
   "cell_type": "markdown",
   "metadata": {},
   "source": [
    "# Results to save"
   ]
  },
  {
   "cell_type": "code",
   "execution_count": null,
   "metadata": {},
   "outputs": [],
   "source": []
  }
 ],
 "metadata": {
  "kernelspec": {
   "display_name": "Python 3",
   "language": "python",
   "name": "python3"
  },
  "language_info": {
   "codemirror_mode": {
    "name": "ipython",
    "version": 3
   },
   "file_extension": ".py",
   "mimetype": "text/x-python",
   "name": "python",
   "nbconvert_exporter": "python",
   "pygments_lexer": "ipython3",
   "version": "3.6.9"
  }
 },
 "nbformat": 4,
 "nbformat_minor": 4
}
