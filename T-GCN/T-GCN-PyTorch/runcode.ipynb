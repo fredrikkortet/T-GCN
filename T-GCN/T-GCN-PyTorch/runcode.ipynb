{
 "cells": [
  {
   "cell_type": "code",
   "execution_count": 19,
   "metadata": {},
   "outputs": [
    {
     "name": "stdout",
     "output_type": "stream",
     "text": [
      "Requirement already satisfied: numpy in /usr/local/lib/python3.6/dist-packages (from -r requirements.txt (line 1)) (1.18.5)\n",
      "Requirement already satisfied: matplotlib in /usr/local/lib/python3.6/dist-packages (from -r requirements.txt (line 2)) (3.3.3)\n",
      "Requirement already satisfied: pandas in /usr/local/lib/python3.6/dist-packages (from -r requirements.txt (line 3)) (1.1.5)\n",
      "Requirement already satisfied: torch in /usr/local/lib/python3.6/dist-packages (from -r requirements.txt (line 4)) (1.10.2)\n",
      "Requirement already satisfied: pytorch-lightning>=1.3.0 in /usr/local/lib/python3.6/dist-packages (from -r requirements.txt (line 5)) (1.5.10)\n",
      "Requirement already satisfied: torchmetrics>=0.3.0 in /usr/local/lib/python3.6/dist-packages (from -r requirements.txt (line 6)) (0.8.2)\n",
      "Requirement already satisfied: python-dotenv in /usr/local/lib/python3.6/dist-packages (from -r requirements.txt (line 7)) (0.20.0)\n",
      "Requirement already satisfied: scipy in /usr/local/lib/python3.6/dist-packages (from -r requirements.txt (line 8)) (1.5.4)\n",
      "Requirement already satisfied: typing-extensions in /usr/local/lib/python3.6/dist-packages (from pytorch-lightning>=1.3.0->-r requirements.txt (line 5)) (3.7.4.3)\n",
      "Requirement already satisfied: packaging>=17.0 in /usr/local/lib/python3.6/dist-packages (from pytorch-lightning>=1.3.0->-r requirements.txt (line 5)) (20.8)\n",
      "Requirement already satisfied: tensorboard>=2.2.0 in /usr/local/lib/python3.6/dist-packages (from pytorch-lightning>=1.3.0->-r requirements.txt (line 5)) (2.10.1)\n",
      "Requirement already satisfied: tqdm>=4.41.0 in /usr/local/lib/python3.6/dist-packages (from pytorch-lightning>=1.3.0->-r requirements.txt (line 5)) (4.64.1)\n",
      "Requirement already satisfied: fsspec[http]!=2021.06.0,>=2021.05.0 in /usr/local/lib/python3.6/dist-packages (from pytorch-lightning>=1.3.0->-r requirements.txt (line 5)) (2022.1.0)\n",
      "Requirement already satisfied: pyDeprecate==0.3.1 in /usr/local/lib/python3.6/dist-packages (from pytorch-lightning>=1.3.0->-r requirements.txt (line 5)) (0.3.1)\n",
      "Requirement already satisfied: setuptools==59.5.0 in /usr/local/lib/python3.6/dist-packages (from pytorch-lightning>=1.3.0->-r requirements.txt (line 5)) (59.5.0)\n",
      "Requirement already satisfied: future>=0.17.1 in /usr/local/lib/python3.6/dist-packages (from pytorch-lightning>=1.3.0->-r requirements.txt (line 5)) (0.18.3)\n",
      "Requirement already satisfied: PyYAML>=5.1 in /usr/local/lib/python3.6/dist-packages (from pytorch-lightning>=1.3.0->-r requirements.txt (line 5)) (6.0)\n",
      "Requirement already satisfied: dataclasses in /usr/local/lib/python3.6/dist-packages (from torch->-r requirements.txt (line 4)) (0.8)\n",
      "Requirement already satisfied: requests in /usr/local/lib/python3.6/dist-packages (from fsspec[http]!=2021.06.0,>=2021.05.0->pytorch-lightning>=1.3.0->-r requirements.txt (line 5)) (2.27.1)\n",
      "Requirement already satisfied: aiohttp in /usr/local/lib/python3.6/dist-packages (from fsspec[http]!=2021.06.0,>=2021.05.0->pytorch-lightning>=1.3.0->-r requirements.txt (line 5)) (3.8.4)\n",
      "Requirement already satisfied: pyparsing>=2.0.2 in /usr/local/lib/python3.6/dist-packages (from packaging>=17.0->pytorch-lightning>=1.3.0->-r requirements.txt (line 5)) (2.4.7)\n",
      "Requirement already satisfied: grpcio>=1.24.3 in /usr/local/lib/python3.6/dist-packages (from tensorboard>=2.2.0->pytorch-lightning>=1.3.0->-r requirements.txt (line 5)) (1.34.0)\n",
      "Requirement already satisfied: google-auth-oauthlib<0.5,>=0.4.1 in /usr/local/lib/python3.6/dist-packages (from tensorboard>=2.2.0->pytorch-lightning>=1.3.0->-r requirements.txt (line 5)) (0.4.6)\n",
      "Requirement already satisfied: google-auth<3,>=1.6.3 in /usr/local/lib/python3.6/dist-packages (from tensorboard>=2.2.0->pytorch-lightning>=1.3.0->-r requirements.txt (line 5)) (2.17.3)\n",
      "Requirement already satisfied: wheel>=0.26 in /usr/lib/python3/dist-packages (from tensorboard>=2.2.0->pytorch-lightning>=1.3.0->-r requirements.txt (line 5)) (0.30.0)\n",
      "Requirement already satisfied: markdown>=2.6.8 in /usr/local/lib/python3.6/dist-packages (from tensorboard>=2.2.0->pytorch-lightning>=1.3.0->-r requirements.txt (line 5)) (3.3.3)\n",
      "Requirement already satisfied: werkzeug>=1.0.1 in /usr/local/lib/python3.6/dist-packages (from tensorboard>=2.2.0->pytorch-lightning>=1.3.0->-r requirements.txt (line 5)) (1.0.1)\n",
      "Requirement already satisfied: tensorboard-data-server<0.7.0,>=0.6.0 in /usr/local/lib/python3.6/dist-packages (from tensorboard>=2.2.0->pytorch-lightning>=1.3.0->-r requirements.txt (line 5)) (0.6.1)\n",
      "Requirement already satisfied: protobuf<3.20,>=3.9.2 in /usr/local/lib/python3.6/dist-packages (from tensorboard>=2.2.0->pytorch-lightning>=1.3.0->-r requirements.txt (line 5)) (3.14.0)\n",
      "Requirement already satisfied: tensorboard-plugin-wit>=1.6.0 in /usr/local/lib/python3.6/dist-packages (from tensorboard>=2.2.0->pytorch-lightning>=1.3.0->-r requirements.txt (line 5)) (1.8.1)\n",
      "Requirement already satisfied: absl-py>=0.4 in /usr/local/lib/python3.6/dist-packages (from tensorboard>=2.2.0->pytorch-lightning>=1.3.0->-r requirements.txt (line 5)) (0.11.0)\n",
      "Requirement already satisfied: six in /usr/lib/python3/dist-packages (from absl-py>=0.4->tensorboard>=2.2.0->pytorch-lightning>=1.3.0->-r requirements.txt (line 5)) (1.11.0)\n",
      "Requirement already satisfied: cachetools<6.0,>=2.0.0 in /usr/local/lib/python3.6/dist-packages (from google-auth<3,>=1.6.3->tensorboard>=2.2.0->pytorch-lightning>=1.3.0->-r requirements.txt (line 5)) (4.2.4)\n",
      "Requirement already satisfied: pyasn1-modules>=0.2.1 in /usr/local/lib/python3.6/dist-packages (from google-auth<3,>=1.6.3->tensorboard>=2.2.0->pytorch-lightning>=1.3.0->-r requirements.txt (line 5)) (0.2.8)\n",
      "Requirement already satisfied: rsa<5,>=3.1.4 in /usr/local/lib/python3.6/dist-packages (from google-auth<3,>=1.6.3->tensorboard>=2.2.0->pytorch-lightning>=1.3.0->-r requirements.txt (line 5)) (4.9)\n",
      "Requirement already satisfied: requests-oauthlib>=0.7.0 in /usr/local/lib/python3.6/dist-packages (from google-auth-oauthlib<0.5,>=0.4.1->tensorboard>=2.2.0->pytorch-lightning>=1.3.0->-r requirements.txt (line 5)) (1.3.1)\n",
      "Requirement already satisfied: importlib-metadata in /usr/local/lib/python3.6/dist-packages (from markdown>=2.6.8->tensorboard>=2.2.0->pytorch-lightning>=1.3.0->-r requirements.txt (line 5)) (3.3.0)\n",
      "Requirement already satisfied: pyasn1<0.5.0,>=0.4.6 in /usr/local/lib/python3.6/dist-packages (from pyasn1-modules>=0.2.1->google-auth<3,>=1.6.3->tensorboard>=2.2.0->pytorch-lightning>=1.3.0->-r requirements.txt (line 5)) (0.4.8)\n",
      "Requirement already satisfied: urllib3<1.27,>=1.21.1 in /usr/local/lib/python3.6/dist-packages (from requests->fsspec[http]!=2021.06.0,>=2021.05.0->pytorch-lightning>=1.3.0->-r requirements.txt (line 5)) (1.26.15)\n",
      "Requirement already satisfied: idna<4,>=2.5 in /usr/lib/python3/dist-packages (from requests->fsspec[http]!=2021.06.0,>=2021.05.0->pytorch-lightning>=1.3.0->-r requirements.txt (line 5)) (2.6)\n",
      "Requirement already satisfied: charset-normalizer~=2.0.0 in /usr/local/lib/python3.6/dist-packages (from requests->fsspec[http]!=2021.06.0,>=2021.05.0->pytorch-lightning>=1.3.0->-r requirements.txt (line 5)) (2.0.12)\n",
      "Requirement already satisfied: certifi>=2017.4.17 in /usr/local/lib/python3.6/dist-packages (from requests->fsspec[http]!=2021.06.0,>=2021.05.0->pytorch-lightning>=1.3.0->-r requirements.txt (line 5)) (2022.12.7)\n",
      "Requirement already satisfied: oauthlib>=3.0.0 in /usr/local/lib/python3.6/dist-packages (from requests-oauthlib>=0.7.0->google-auth-oauthlib<0.5,>=0.4.1->tensorboard>=2.2.0->pytorch-lightning>=1.3.0->-r requirements.txt (line 5)) (3.2.2)\n",
      "Requirement already satisfied: importlib-resources in /usr/local/lib/python3.6/dist-packages (from tqdm>=4.41.0->pytorch-lightning>=1.3.0->-r requirements.txt (line 5)) (5.4.0)\n",
      "Requirement already satisfied: cycler>=0.10 in /usr/local/lib/python3.6/dist-packages (from matplotlib->-r requirements.txt (line 2)) (0.10.0)\n",
      "Requirement already satisfied: kiwisolver>=1.0.1 in /usr/local/lib/python3.6/dist-packages (from matplotlib->-r requirements.txt (line 2)) (1.3.1)\n",
      "Requirement already satisfied: pillow>=6.2.0 in /usr/local/lib/python3.6/dist-packages (from matplotlib->-r requirements.txt (line 2)) (8.1.0)\n",
      "Requirement already satisfied: python-dateutil>=2.1 in /usr/local/lib/python3.6/dist-packages (from matplotlib->-r requirements.txt (line 2)) (2.8.1)\n",
      "Requirement already satisfied: pytz>=2017.2 in /usr/local/lib/python3.6/dist-packages (from pandas->-r requirements.txt (line 3)) (2023.3)\n"
     ]
    },
    {
     "name": "stdout",
     "output_type": "stream",
     "text": [
      "Requirement already satisfied: frozenlist>=1.1.1 in /usr/local/lib/python3.6/dist-packages (from aiohttp->fsspec[http]!=2021.06.0,>=2021.05.0->pytorch-lightning>=1.3.0->-r requirements.txt (line 5)) (1.2.0)\n",
      "Requirement already satisfied: attrs>=17.3.0 in /usr/local/lib/python3.6/dist-packages (from aiohttp->fsspec[http]!=2021.06.0,>=2021.05.0->pytorch-lightning>=1.3.0->-r requirements.txt (line 5)) (20.3.0)\n",
      "Requirement already satisfied: yarl<2.0,>=1.0 in /usr/local/lib/python3.6/dist-packages (from aiohttp->fsspec[http]!=2021.06.0,>=2021.05.0->pytorch-lightning>=1.3.0->-r requirements.txt (line 5)) (1.7.2)\n",
      "Requirement already satisfied: async-timeout<5.0,>=4.0.0a3 in /usr/local/lib/python3.6/dist-packages (from aiohttp->fsspec[http]!=2021.06.0,>=2021.05.0->pytorch-lightning>=1.3.0->-r requirements.txt (line 5)) (4.0.2)\n",
      "Requirement already satisfied: idna-ssl>=1.0 in /usr/local/lib/python3.6/dist-packages (from aiohttp->fsspec[http]!=2021.06.0,>=2021.05.0->pytorch-lightning>=1.3.0->-r requirements.txt (line 5)) (1.1.0)\n",
      "Requirement already satisfied: multidict<7.0,>=4.5 in /usr/local/lib/python3.6/dist-packages (from aiohttp->fsspec[http]!=2021.06.0,>=2021.05.0->pytorch-lightning>=1.3.0->-r requirements.txt (line 5)) (5.2.0)\n",
      "Requirement already satisfied: aiosignal>=1.1.2 in /usr/local/lib/python3.6/dist-packages (from aiohttp->fsspec[http]!=2021.06.0,>=2021.05.0->pytorch-lightning>=1.3.0->-r requirements.txt (line 5)) (1.2.0)\n",
      "Requirement already satisfied: asynctest==0.13.0 in /usr/local/lib/python3.6/dist-packages (from aiohttp->fsspec[http]!=2021.06.0,>=2021.05.0->pytorch-lightning>=1.3.0->-r requirements.txt (line 5)) (0.13.0)\n",
      "Requirement already satisfied: zipp>=0.5 in /usr/local/lib/python3.6/dist-packages (from importlib-metadata->markdown>=2.6.8->tensorboard>=2.2.0->pytorch-lightning>=1.3.0->-r requirements.txt (line 5)) (3.4.0)\n",
      "\u001b[33mWARNING: You are using pip version 20.3.3; however, version 21.3.1 is available.\n",
      "You should consider upgrading via the '/usr/bin/python3 -m pip install --upgrade pip' command.\u001b[0m\n"
     ]
    }
   ],
   "source": [
    "!pip install -r requirements.txt"
   ]
  },
  {
   "cell_type": "markdown",
   "metadata": {},
   "source": [
    "# Run code with setup"
   ]
  },
  {
   "cell_type": "code",
   "execution_count": 2,
   "metadata": {},
   "outputs": [
    {
     "data": {
      "text/plain": [
       "('GRU', 'LSTM', 'GCN', 'TGCN', 'TGCN_LSTM', 'TGCN_UGRNN')"
      ]
     },
     "execution_count": 2,
     "metadata": {},
     "output_type": "execute_result"
    }
   ],
   "source": [
    "\"GRU\", \"LSTM\", \"GCN\", \"TGCN\",\"TGCN_LSTM\",\"TGCN_UGRNN\""
   ]
  },
  {
   "cell_type": "code",
   "execution_count": 2,
   "metadata": {},
   "outputs": [
    {
     "data": {
      "text/plain": [
       "['mse_with_regularizer', 'mse_with_regularizer_l1']"
      ]
     },
     "execution_count": 2,
     "metadata": {},
     "output_type": "execute_result"
    }
   ],
   "source": [
    "[\"mse_with_regularizer\",\"mse_with_regularizer_l1\"]"
   ]
  },
  {
   "cell_type": "code",
   "execution_count": null,
   "metadata": {},
   "outputs": [],
   "source": [
    "\"losloop\",\"PEMS08\",\"PEMS04\",\"\""
   ]
  },
  {
   "cell_type": "code",
   "execution_count": null,
   "metadata": {
    "scrolled": true
   },
   "outputs": [
    {
     "name": "stdout",
     "output_type": "stream",
     "text": [
      "Dataset: losloop  Loss: mse_with_regularizer_entropy  Model: TGCN Layer 2: False\n",
      "b'--------------------------------------------------------------------------------\\n'\n",
      "b'DATALOADER:0 VALIDATE RESULTS\\n'\n",
      "b\"{'ExplainedVar': 0.2797713279724121,\\n\"\n",
      "b\" 'MAE': 12.394514083862305,\\n\"\n",
      "b\" 'R2': 0.16201472282409668,\\n\"\n",
      "b\" 'RMSE': 16.684919357299805,\\n\"\n",
      "b\" 'accuracy': 0.7159579396247864,\\n\"\n",
      "b\" 'val_loss': 448240805740544.0}\\n\"\n",
      "b'--------------------------------------------------------------------------------\\n'\n",
      "Dataset: losloop  Loss: mse  Model: TGCN Layer 2: False\n"
     ]
    }
   ],
   "source": [
    "from subprocess import Popen,PIPE\n",
    "model = [\"TGCN\"]\n",
    "max_epochs = \"1\"\n",
    "learning_rate = \"0.001\" \n",
    "weight_decay =\"0\"\n",
    "enable_progress_bar = \"False\"\n",
    "batch_size = \"64\"\n",
    "hidden_dim = \"64\"\n",
    "cell_dim = \"64\"\n",
    "dropout = \"0\"\n",
    "layer_2 = [\"False\"]\n",
    "loss = [\"mse_with_regularizer_entropy\",\"mse\"]\n",
    "data = [\"losloop\"]\n",
    "gpus = \"0\"\n",
    "for i in data:\n",
    "    for j in loss:\n",
    "        for k in model:\n",
    "            for l in layer_2:\n",
    "                print(\"Dataset:\",i,\" Loss:\",j,\" Model:\",k,\"Layer 2:\",l)\n",
    "                cmd_str = [\"python\",\n",
    "                       \"main.py\",\n",
    "                       \"--enable_progress_bar\",enable_progress_bar,\n",
    "                       \"--model_name\",k,\n",
    "                       \"--max_epochs\",max_epochs,\n",
    "                       \"--learning_rate\",learning_rate,\n",
    "                       \"--weight_decay\",weight_decay,\n",
    "                       \"--batch_size\",batch_size,\n",
    "                       \"--hidden_dim\",hidden_dim,\n",
    "                       \"--cell_dim\",cell_dim,\n",
    "                       \"--dropout\",dropout,\n",
    "                       \"--loss\",j,\n",
    "                       \"--layer_2\",layer_2[0],\n",
    "                       \"--data\",i,\n",
    "                       \"--gpus\",gpus,\n",
    "                      ]\n",
    "                p = Popen(cmd_str,stdout=PIPE)\n",
    "                for m in p.stdout:\n",
    "                    print(m)"
   ]
  },
  {
   "cell_type": "markdown",
   "metadata": {},
   "source": [
    "# Test one with time "
   ]
  },
  {
   "cell_type": "code",
   "execution_count": 9,
   "metadata": {},
   "outputs": [],
   "source": [
    "import time"
   ]
  },
  {
   "cell_type": "code",
   "execution_count": 32,
   "metadata": {},
   "outputs": [
    {
     "name": "stdout",
     "output_type": "stream",
     "text": [
      "\u001b[31m[2023-04-20 08:43:42,901 INFO]\u001b[0m{'logger': True, 'checkpoint_callback': None, 'enable_checkpointing': True, 'default_root_dir': None, 'gradient_clip_val': None, 'gradient_clip_algorithm': None, 'process_position': 0, 'num_nodes': 1, 'num_processes': 1, 'devices': None, 'gpus': None, 'auto_select_gpus': False, 'tpu_cores': None, 'ipus': None, 'log_gpu_memory': None, 'progress_bar_refresh_rate': None, 'enable_progress_bar': True, 'overfit_batches': 0.0, 'track_grad_norm': -1, 'check_val_every_n_epoch': 1, 'fast_dev_run': False, 'accumulate_grad_batches': None, 'max_epochs': 5, 'min_epochs': None, 'max_steps': -1, 'min_steps': None, 'max_time': None, 'limit_train_batches': 1.0, 'limit_val_batches': 1.0, 'limit_test_batches': 1.0, 'limit_predict_batches': 1.0, 'val_check_interval': 1.0, 'flush_logs_every_n_steps': None, 'log_every_n_steps': 50, 'accelerator': None, 'strategy': None, 'sync_batchnorm': False, 'precision': 32, 'enable_model_summary': True, 'weights_summary': 'top', 'weights_save_path': None, 'num_sanity_val_steps': 2, 'resume_from_checkpoint': None, 'profiler': None, 'benchmark': False, 'deterministic': False, 'reload_dataloaders_every_n_epochs': 0, 'reload_dataloaders_every_epoch': False, 'auto_lr_find': False, 'replace_sampler_ddp': True, 'detect_anomaly': False, 'auto_scale_batch_size': False, 'prepare_data_per_node': None, 'plugins': None, 'amp_backend': 'native', 'amp_level': None, 'move_metrics_to_cpu': False, 'multiple_trainloader_mode': 'max_size_cycle', 'stochastic_weight_avg': False, 'terminate_on_nan': None, 'data': 'losloop', 'model_name': 'TGCN', 'settings': 'supervised', 'log_path': None, 'send_email': False, 'self_attention': 1, 'batch_size': 32, 'seq_len': 12, 'pre_len': 3, 'split_ratio': 0.8, 'normalize': True, 'hidden_dim': 64, 'dropout': 0, 'cell_dim': 64, 'layer_2': 0, 'learning_rate': 0.001, 'weight_decay': 0.0, 'loss': 'mse'}\n",
      "\u001b[31m[2023-04-20 08:43:43,258 INFO]\u001b[0mGPU available: False, used: False\n",
      "\u001b[31m[2023-04-20 08:43:43,258 INFO]\u001b[0mTPU available: False, using: 0 TPU cores\n",
      "\u001b[31m[2023-04-20 08:43:43,258 INFO]\u001b[0mIPU available: False, using: 0 IPUs\n",
      "\u001b[31m[2023-04-20 08:43:46,500 INFO]\u001b[0m\n",
      "  | Name      | Type   | Params\n",
      "-------------------------------------\n",
      "0 | model     | TGCN   | 12.7 K\n",
      "1 | regressor | Linear | 195   \n",
      "-------------------------------------\n",
      "12.9 K    Trainable params\n",
      "0         Non-trainable params\n",
      "12.9 K    Total params\n",
      "0.051     Total estimated model params size (MB)\n",
      "Epoch 0:  98%|██████████▊| 50/51 [00:16<00:00,  2.98it/s, loss=0.351, v_num=109]\n",
      "Validating: 0it [00:00, ?it/s]\u001b[A\n",
      "Validating:   0%|                                         | 0/1 [00:00<?, ?it/s]\u001b[A\n",
      "Epoch 0: 100%|███████████| 51/51 [00:18<00:00,  2.74it/s, loss=0.351, v_num=109]\u001b[A\n",
      "Epoch 1:  98%|█████████▊| 50/51 [00:15<00:00,  3.24it/s, loss=0.0672, v_num=109]\u001b[A\n",
      "Validating: 0it [00:00, ?it/s]\u001b[A\n",
      "Validating:   0%|                                         | 0/1 [00:00<?, ?it/s]\u001b[A\n",
      "Epoch 1: 100%|██████████| 51/51 [00:16<00:00,  3.01it/s, loss=0.0672, v_num=109]\u001b[A\n",
      "Epoch 2:  98%|██████████▊| 50/51 [00:15<00:00,  3.24it/s, loss=0.025, v_num=109]\u001b[A\n",
      "Validating: 0it [00:00, ?it/s]\u001b[A\n",
      "Validating:   0%|                                         | 0/1 [00:00<?, ?it/s]\u001b[A\n",
      "Epoch 2: 100%|███████████| 51/51 [00:17<00:00,  2.97it/s, loss=0.025, v_num=109]\u001b[A\n",
      "Epoch 3:  98%|█████████▊| 50/51 [00:16<00:00,  3.00it/s, loss=0.0184, v_num=109]\u001b[A\n",
      "Validating: 0it [00:00, ?it/s]\u001b[A\n",
      "Validating:   0%|                                         | 0/1 [00:00<?, ?it/s]\u001b[A\n",
      "Epoch 3: 100%|██████████| 51/51 [00:18<00:00,  2.73it/s, loss=0.0184, v_num=109]\u001b[A\n",
      "Epoch 4:  98%|█████████▊| 50/51 [00:16<00:00,  3.10it/s, loss=0.0165, v_num=109]\u001b[A\n",
      "Validating: 0it [00:00, ?it/s]\u001b[A\n",
      "Validating:   0%|                                         | 0/1 [00:00<?, ?it/s]\u001b[A\n",
      "Epoch 4: 100%|██████████| 51/51 [00:17<00:00,  2.85it/s, loss=0.0165, v_num=109]\u001b[A\n",
      "Epoch 4: 100%|██████████| 51/51 [00:17<00:00,  2.85it/s, loss=0.0165, v_num=109]\u001b[A\n",
      "/usr/local/lib/python3.6/dist-packages/pytorch_lightning/trainer/trainer.py:1399: UserWarning: `.validate(ckpt_path=None)` was called without a model. The best model of the previous `fit` call will be used. You can pass `validate(ckpt_path='best')` to use and best model checkpoint and avoid this warning or `ckpt_path=trainer.checkpoint_callback.last_model_path` to use the last model.\n",
      "  f\"`.{fn}(ckpt_path=None)` was called without a model.\"\n",
      "\u001b[31m[2023-04-20 08:46:12,872 INFO]\u001b[0mRestoring states from the checkpoint path at /tf/notebooks/T-GCN/T-GCN/T-GCN-PyTorch/lightning_logs/version_109/checkpoints/epoch=3-step=199.ckpt\n",
      "\u001b[31m[2023-04-20 08:46:12,911 INFO]\u001b[0mLoaded model weights from checkpoint at /tf/notebooks/T-GCN/T-GCN/T-GCN-PyTorch/lightning_logs/version_109/checkpoints/epoch=3-step=199.ckpt\n",
      "Validating: 100%|█████████████████████████████████| 1/1 [00:01<00:00,  1.59s/it]--------------------------------------------------------------------------------\n",
      "DATALOADER:0 VALIDATE RESULTS\n",
      "{'ExplainedVar': 0.4577949047088623,\n",
      " 'MAE': 7.005533695220947,\n",
      " 'R2': 0.4531864523887634,\n",
      " 'RMSE': 10.308563232421875,\n",
      " 'accuracy': 0.8245081305503845,\n",
      " 'val_loss': 106.2664794921875}\n",
      "--------------------------------------------------------------------------------\n",
      "Validating: 100%|█████████████████████████████████| 1/1 [00:01<00:00,  1.60s/it]\n",
      "CPU times: user 2.15 s, sys: 496 ms, total: 2.65 s\n",
      "Wall time: 2min 34s\n"
     ]
    }
   ],
   "source": [
    "%%time\n",
    "\n",
    "!python main.py \\\n",
    "--model_name TGCN \\\n",
    "--data losloop \\\n",
    "--max_epochs 5 \\\n",
    "--learning_rate 0.001 \\\n",
    "--weight_decay 0 \\\n",
    "--batch_size 32 \\\n",
    "--hidden_dim 64 \\\n",
    "--self_attention 1 \\\n",
    "#--layer_2 False \\\n",
    "--loss \"mse\" \\\n",
    "--pre_len 12 \\\n",
    "--seq_len 12"
   ]
  },
  {
   "cell_type": "markdown",
   "metadata": {},
   "source": [
    "# Results to save"
   ]
  },
  {
   "cell_type": "code",
   "execution_count": null,
   "metadata": {},
   "outputs": [],
   "source": [
    "DATALOADER:0 VALIDATE RESULTS\n",
    "{'ExplainedVar': 0.4844670295715332,\n",
    " 'MAE': 6.819440841674805,\n",
    " 'R2': 0.4796629548072815,\n",
    " 'RMSE': 10.107505798339844,\n",
    " 'accuracy': 0.8277632594108582,\n",
    " 'val_loss': 102.16167449951172}"
   ]
  },
  {
   "cell_type": "markdown",
   "metadata": {},
   "source": [
    "# SVD "
   ]
  },
  {
   "cell_type": "code",
   "execution_count": null,
   "metadata": {},
   "outputs": [],
   "source": [
    "import pandas as pd\n",
    "import numpy as np\n",
    "import torch \n",
    "import time\n",
    "\n",
    "def svd_low_rank_approximation(matrix,k):\n",
    "    # Perform SVD on the matrix\n",
    "    u, s, v = torch.linalg.svd(matrix, full_matrices=False)\n",
    "    \n",
    "    k=0\n",
    "    # Truncate the singular values and matrices to rank k\n",
    "    s_k = s[:k]\n",
    "    u_k = u[:, :k]\n",
    "    v_k = v[:, :k]\n",
    "    return u_k.mm(torch.diag(s_k)),v_k.t()\n",
    "\n",
    "def adjmat(adj):\n",
    "    return torch.mm(torch.mm(adj[1], torch.diag(adj[0])), adj[2].t())\n",
    "\n",
    "PEMS08_adj = pd.read_csv(r'data/pems08_adj.csv',header=None)\n",
    "adj = np.array(PEMS08_adj,dtype=np.float32)\n",
    "adj = torch.tensor(adj)\n",
    "\n",
    "data = np.load(\"data/pems08.npz\")\n",
    "data = data.f.data\n",
    "df_data = pd.DataFrame(data[:,:,0])\n",
    "df_data = df_data.values.tolist()\n",
    "feat = np.array(df_data, dtype=np.float32)\n",
    "feat = torch.tensor(feat)\n",
    "\n",
    "for i in range(1):\n",
    "    adjsvd= svd_low_rank_approximation(feat,115)\n",
    "    adjmatrix1= adjsvd\n",
    "for i in range(1):\n",
    "    adjsvd= svd_low_rank_approximation(feat,170)\n",
    "    adjmatrix= adjsvd\n",
    "q=adjmatrix1[1].matmul(adj)\n",
    "l=adjmatrix1[0].matmul(q)\n",
    "start = time.time()\n",
    "\n",
    "print(\"svd s u v = \",adjmatrix1[0].matmul(adjmatrix1[1].matmul( adj))\n",
    "end = time.time()\n",
    "print(end-start)\n",
    "start = time.time()\n",
    "print(\"svd s u v = \",l==adjmatrix1[0].matmul(adjmatrix1[1].matmul( adj)))\n",
    "end = time.time()\n",
    "print(end-start)"
   ]
  },
  {
   "cell_type": "code",
   "execution_count": null,
   "metadata": {},
   "outputs": [],
   "source": [
    "import numpy as np\n",
    "from numpy import linalg as la\n",
    "import pandas as pd\n",
    "np.random.seed(42)\n",
    "\n",
    "\n",
    "def flip_signs(A, B):\n",
    "    \"\"\"\n",
    "    utility function for resolving the sign ambiguity in SVD\n",
    "    http://stats.stackexchange.com/q/34396/115202\n",
    "    \"\"\"\n",
    "    signs = np.sign(A) * np.sign(B)\n",
    "    return A, B * signs\n",
    "\n",
    "\n",
    "# Let the data matrix X be of n x p size,\n",
    "# where n is the number of samples and p is the number of variables\n",
    "n, p = 170, 170\n",
    "adj_df = pd.read_csv(\"data/pems08_adj.csv\", header=None)\n",
    "X = np.array(adj_df, dtype=np.float32)\n",
    "X -= np.mean(X,axis=0)\n",
    "\n",
    "# the p x p covariance matrix\n",
    "C = np.cov(X, rowvar=False)\n",
    "print(\"C = \\n\", C)\n",
    "# C is a symmetric matrix and so it can be diagonalized:\n",
    "l, principal_axes = la.eig(C)\n",
    "# sort results wrt. eigenvalues\n",
    "idx = l.argsort()[::-1]\n",
    "l, principal_axes = l[idx], principal_axes[:, idx]\n",
    "# the eigenvalues in decreasing order\n",
    "print(\"l = \\n\", l)\n",
    "# a matrix of eigenvectors (each column is an eigenvector)\n",
    "print(\"V = \\n\", principal_axes)\n",
    "# projections of X on the principal axes are called principal components\n",
    "principal_components = X.dot(principal_axes)\n",
    "print(\"Y = \\n\", principal_components)\n",
    "\n",
    "# we now perform singular value decomposition of X\n",
    "# \"economy size\" (or \"thin\") SVD\n",
    "U, s, Vt = la.svd(X, full_matrices=False)\n",
    "V = Vt.T\n",
    "S = np.diag(s)\n",
    "\n",
    "# 1) then columns of V are principal directions/axes.\n",
    "#assert np.allclose(V, principal_axes)\n",
    "\n",
    "# 2) columns of US are principal components\n",
    "assert np.allclose(*flip_signs(U.dot(S), principal_components))\n",
    "\n",
    "# 3) singular values are related to the eigenvalues of covariance matrix\n",
    "assert np.allclose((s ** 2) / (n - 1), l)\n",
    "\n",
    "# 8) dimensionality reduction\n",
    "k = 2\n",
    "PC_k = principal_components[:, 0:k]\n",
    "US_k = U[:, 0:k].dot(S[0:k, 0:k])\n",
    "assert np.allclose(*flip_signs(PC_k, US_k))\n",
    "\n",
    "# 10) we used \"economy size\" (or \"thin\") SVD\n",
    "assert U.shape == (n, p)\n",
    "assert S.shape == (p, p)\n",
    "assert V.shape == (p, p)\n"
   ]
  },
  {
   "cell_type": "code",
   "execution_count": null,
   "metadata": {},
   "outputs": [],
   "source": []
  }
 ],
 "metadata": {
  "kernelspec": {
   "display_name": "Python 3",
   "language": "python",
   "name": "python3"
  },
  "language_info": {
   "codemirror_mode": {
    "name": "ipython",
    "version": 3
   },
   "file_extension": ".py",
   "mimetype": "text/x-python",
   "name": "python",
   "nbconvert_exporter": "python",
   "pygments_lexer": "ipython3",
   "version": "3.6.9"
  }
 },
 "nbformat": 4,
 "nbformat_minor": 4
}
